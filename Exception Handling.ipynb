{
 "cells": [
  {
   "cell_type": "raw",
   "id": "6f07b0f9",
   "metadata": {},
   "source": [
    "Expection handling means used to handle the error\n",
    "1. zero Division -> Occurs when a number divisable by 0\n",
    "2. Name Error --> It occurs when a name is not defined \n",
    "3. IOE--> iput and out put error when file not found\n",
    "4. Value Error-> If some vaiable is defined\n",
    "5.Identation Error--> syntax problem"
   ]
  },
  {
   "cell_type": "markdown",
   "id": "94ff02cd",
   "metadata": {},
   "source": [
    "## Zero Error"
   ]
  },
  {
   "cell_type": "code",
   "execution_count": 1,
   "id": "f2f653e8",
   "metadata": {},
   "outputs": [
    {
     "ename": "ZeroDivisionError",
     "evalue": "division by zero",
     "output_type": "error",
     "traceback": [
      "\u001b[1;31m--------------------------------------------------------------------------\u001b[0m",
      "\u001b[1;31mZeroDivisionError\u001b[0m                        Traceback (most recent call last)",
      "\u001b[1;32m<ipython-input-1-d250bf2504ad>\u001b[0m in \u001b[0;36m<module>\u001b[1;34m\u001b[0m\n\u001b[0;32m      1\u001b[0m \u001b[0ma\u001b[0m\u001b[1;33m=\u001b[0m\u001b[1;36m1\u001b[0m\u001b[1;33m\u001b[0m\u001b[1;33m\u001b[0m\u001b[0m\n\u001b[1;32m----> 2\u001b[1;33m \u001b[0mb\u001b[0m\u001b[1;33m=\u001b[0m\u001b[0ma\u001b[0m\u001b[1;33m/\u001b[0m\u001b[1;36m0\u001b[0m\u001b[1;33m\u001b[0m\u001b[1;33m\u001b[0m\u001b[0m\n\u001b[0m\u001b[0;32m      3\u001b[0m \u001b[0mprint\u001b[0m\u001b[1;33m(\u001b[0m\u001b[0mb\u001b[0m\u001b[1;33m)\u001b[0m\u001b[1;33m\u001b[0m\u001b[1;33m\u001b[0m\u001b[0m\n",
      "\u001b[1;31mZeroDivisionError\u001b[0m: division by zero"
     ]
    }
   ],
   "source": [
    "a=1\n",
    "b=a/0\n",
    "print(b)"
   ]
  },
  {
   "cell_type": "markdown",
   "id": "60fac26c",
   "metadata": {},
   "source": [
    "## Value Error"
   ]
  },
  {
   "cell_type": "code",
   "execution_count": null,
   "id": "f98570b7",
   "metadata": {},
   "outputs": [],
   "source": [
    "a='4'\n",
    "b=int(a)\n",
    "print(b)"
   ]
  },
  {
   "cell_type": "code",
   "execution_count": null,
   "id": "e0ea8a55",
   "metadata": {},
   "outputs": [],
   "source": [
    "a=4\n",
    "b=str(a)\n",
    "print(b)"
   ]
  },
  {
   "cell_type": "code",
   "execution_count": null,
   "id": "8e2eafa5",
   "metadata": {},
   "outputs": [],
   "source": [
    "a='k'\n",
    "b=int(a)\n",
    "print(b)"
   ]
  },
  {
   "cell_type": "markdown",
   "id": "32582f6f",
   "metadata": {},
   "source": [
    "## Name Error"
   ]
  },
  {
   "cell_type": "code",
   "execution_count": null,
   "id": "cf4df501",
   "metadata": {},
   "outputs": [],
   "source": [
    "name='python'\n",
    "print(Name)"
   ]
  },
  {
   "cell_type": "markdown",
   "id": "82d11548",
   "metadata": {},
   "source": [
    "## Identation Error"
   ]
  },
  {
   "cell_type": "code",
   "execution_count": null,
   "id": "bd46d284",
   "metadata": {},
   "outputs": [],
   "source": [
    "for i in range (1,11):\n",
    "print(i)"
   ]
  },
  {
   "cell_type": "markdown",
   "id": "61b11818",
   "metadata": {},
   "source": [
    "## IOE Error"
   ]
  },
  {
   "cell_type": "code",
   "execution_count": null,
   "id": "cc16b9b8",
   "metadata": {},
   "outputs": [],
   "source": [
    "with open('C:/Users/ANIL/Desktop/An.txt','r')as f:\n",
    "    print (f.close())\n",
    "    f.close()"
   ]
  },
  {
   "cell_type": "code",
   "execution_count": null,
   "id": "304e8b95",
   "metadata": {},
   "outputs": [],
   "source": []
  },
  {
   "cell_type": "markdown",
   "id": "f8f7f919",
   "metadata": {},
   "source": [
    "## Exception Handling"
   ]
  },
  {
   "cell_type": "code",
   "execution_count": null,
   "id": "5a6ed026",
   "metadata": {},
   "outputs": [],
   "source": [
    "a=1\n",
    "b=a/0\n",
    "print(b)"
   ]
  },
  {
   "cell_type": "code",
   "execution_count": null,
   "id": "0e0b87d2",
   "metadata": {},
   "outputs": [],
   "source": [
    "try:\n",
    "    a=1\n",
    "    b=a/0\n",
    "    print(b)\n",
    "except:\n",
    "    print(\"we are getting an errro\")\n",
    "    \n",
    "    "
   ]
  },
  {
   "cell_type": "code",
   "execution_count": null,
   "id": "4574d917",
   "metadata": {},
   "outputs": [],
   "source": [
    "try:\n",
    "    a=1\n",
    "    b=a/0\n",
    "except Exception as f:\n",
    "    print(f)"
   ]
  },
  {
   "cell_type": "code",
   "execution_count": null,
   "id": "7a7448c3",
   "metadata": {},
   "outputs": [],
   "source": [
    "try:\n",
    "    a=1\n",
    "    b=a/0\n",
    "    print(b)\n",
    "except Exception as f:\n",
    "    print(f)\n",
    "    "
   ]
  },
  {
   "cell_type": "markdown",
   "id": "97d6bc66",
   "metadata": {},
   "source": [
    "### Value Error"
   ]
  },
  {
   "cell_type": "code",
   "execution_count": null,
   "id": "6b74c25d",
   "metadata": {},
   "outputs": [],
   "source": [
    "a=input(\"Enter anu numbert = \")\n",
    "b=int(a)\n",
    "print(b)"
   ]
  },
  {
   "cell_type": "code",
   "execution_count": null,
   "id": "09d99328",
   "metadata": {},
   "outputs": [],
   "source": [
    "try:\n",
    "    a=input('Enter any number=')\n",
    "    b=int(a)\n",
    "except Exception as k:\n",
    "    print(k)"
   ]
  },
  {
   "cell_type": "code",
   "execution_count": null,
   "id": "08c83433",
   "metadata": {},
   "outputs": [],
   "source": [
    "## Name Error \n",
    "name='python'\n",
    "print(Name)"
   ]
  },
  {
   "cell_type": "code",
   "execution_count": null,
   "id": "2400015a",
   "metadata": {},
   "outputs": [],
   "source": [
    "try:\n",
    "    name='python'\n",
    "    print(name)\n",
    "except Exception as f:\n",
    "    print(f)\n",
    "else:\n",
    "    print(\"Iam executing i have no error\")\n",
    "    "
   ]
  },
  {
   "cell_type": "code",
   "execution_count": null,
   "id": "5bbafd3f",
   "metadata": {},
   "outputs": [],
   "source": [
    "try:\n",
    "    name='python'\n",
    "    print(a1)\n",
    "except Expetion as f:\n",
    "    print(f)\n",
    "    "
   ]
  },
  {
   "cell_type": "code",
   "execution_count": null,
   "id": "54a845f9",
   "metadata": {},
   "outputs": [],
   "source": [
    "try:\n",
    "    name='python'\n",
    "    print(a1)\n",
    "except NameError as f:\n",
    "    print(f)\n",
    "else:\n",
    "    print('Iam ecxecuting and i have no reero')"
   ]
  },
  {
   "cell_type": "markdown",
   "id": "a9eb294b",
   "metadata": {},
   "source": [
    "## Handling MUltiple Error"
   ]
  },
  {
   "cell_type": "code",
   "execution_count": null,
   "id": "f5c2710f",
   "metadata": {},
   "outputs": [],
   "source": [
    "n = input(\"enter a number = \")\n",
    "try:\n",
    "    sol = int(n)\n",
    "    print(sol)\n",
    "    a = 1\n",
    "    b = a/2\n",
    "    print(b)\n",
    "except ValueError:\n",
    "    print(\"pls enter a numerical number\")\n",
    "except ZeroDivisionError:\n",
    "    print(\"dont give zero in the denominator \")\n",
    "else:\n",
    "    print(\"Both are correct \")\n"
   ]
  },
  {
   "cell_type": "code",
   "execution_count": 4,
   "id": "755b8362",
   "metadata": {},
   "outputs": [
    {
     "name": "stdout",
     "output_type": "stream",
     "text": [
      "Enter any number=8\n",
      "8\n",
      "0.5\n",
      "Both are correct\n"
     ]
    }
   ],
   "source": [
    "n = input('Enter any number=')\n",
    "try:\n",
    "    sol=int(n)\n",
    "    print(sol)\n",
    "    a=1\n",
    "    b=a/2\n",
    "    print(b)\n",
    "except ValueError:\n",
    "    print('pls enter a numerical number')\n",
    "except ZeroDivisionError:\n",
    "    print('dont give zero in the denomenater')\n",
    "else:\n",
    "    print('Both are correct')"
   ]
  },
  {
   "cell_type": "code",
   "execution_count": 5,
   "id": "c3d26a8a",
   "metadata": {},
   "outputs": [
    {
     "name": "stdout",
     "output_type": "stream",
     "text": [
      "enter any number=7\n",
      "7\n",
      "0.5\n",
      "We complete Exception concept\n"
     ]
    }
   ],
   "source": [
    "# fianal\n",
    "n= input('enter any number=')\n",
    "try:\n",
    "    sol=int(n)\n",
    "    print(sol)\n",
    "    a=1\n",
    "    b=a/2\n",
    "    print(b)\n",
    "except ValueError:\n",
    "    print('pls Enter a numerical number')\n",
    "except ZeroDivisionError:\n",
    "    print('dnt give zero in denominater')\n",
    "else:\n",
    "    ('Both are coorect')\n",
    "finally:\n",
    "    print('We complete Exception concept')"
   ]
  },
  {
   "cell_type": "code",
   "execution_count": 11,
   "id": "a0eb274f",
   "metadata": {},
   "outputs": [
    {
     "name": "stdout",
     "output_type": "stream",
     "text": [
      "enter a number=1\n",
      "I will always ececute\n"
     ]
    }
   ],
   "source": [
    "try:\n",
    "    roll=int(input('enter a number='))\n",
    "    if roll < 0:\n",
    "             raise valueError()\n",
    "except valueError:\n",
    "             print('please give positve numr')\n",
    "finally:\n",
    "    print('I will always ececute')"
   ]
  },
  {
   "cell_type": "code",
   "execution_count": 10,
   "id": "4e3e85dc",
   "metadata": {},
   "outputs": [
    {
     "name": "stdout",
     "output_type": "stream",
     "text": [
      "enter a number = 1\n",
      "I will always execute \n"
     ]
    }
   ],
   "source": [
    "try:\n",
    "    roll = int(input(\"enter a number = \"))\n",
    "    if roll < 0:\n",
    "        raise ValueError()\n",
    "except ValueError:\n",
    "    print(\"please give positive Number\")\n",
    "finally:\n",
    "    print(\"I will always execute \")\n",
    "    "
   ]
  },
  {
   "cell_type": "code",
   "execution_count": 12,
   "id": "1bac5500",
   "metadata": {},
   "outputs": [
    {
     "name": "stdout",
     "output_type": "stream",
     "text": [
      "Enter a number =5\n",
      "I will always Excecute\n"
     ]
    }
   ],
   "source": [
    "try:\n",
    "    roll=int(input('Enter a number ='))\n",
    "    if roll<0:\n",
    "        raise valueError()\n",
    "except ValueError:\n",
    "    print('Pls give psitive nmbr')\n",
    "finally:\n",
    "    print('I will always Excecute')"
   ]
  },
  {
   "cell_type": "code",
   "execution_count": 19,
   "id": "2d3ab9e9",
   "metadata": {},
   "outputs": [
    {
     "name": "stdout",
     "output_type": "stream",
     "text": [
      "enter age of the person = 21\n",
      "allowd for voating\n"
     ]
    }
   ],
   "source": [
    "try:\n",
    "    a = int(input(\"enter age of the person = \"))\n",
    "    if a<5:\n",
    "        raise ValueError(\"not allowed for voting\")\n",
    "    if a > 20:\n",
    "        raise ValueError(\"allowd for voating\")\n",
    "except ValueError as f:\n",
    "    print(f)"
   ]
  },
  {
   "cell_type": "code",
   "execution_count": 18,
   "id": "5aab4ef3",
   "metadata": {},
   "outputs": [
    {
     "name": "stdout",
     "output_type": "stream",
     "text": [
      "enter age of person=21\n",
      "Allowed to vote\n"
     ]
    }
   ],
   "source": [
    "try:\n",
    "    a=int(input('enter age of person='))\n",
    "    if a<5:\n",
    "        raise ValueError('Not allowed to vote')\n",
    "    if a>20:\n",
    "        raise ValueError('Allowed to vote')\n",
    "except ValueError as f:\n",
    "    print(f)"
   ]
  },
  {
   "cell_type": "code",
   "execution_count": null,
   "id": "bbcf92b7",
   "metadata": {},
   "outputs": [],
   "source": []
  }
 ],
 "metadata": {
  "kernelspec": {
   "display_name": "Python 3",
   "language": "python",
   "name": "python3"
  },
  "language_info": {
   "codemirror_mode": {
    "name": "ipython",
    "version": 3
   },
   "file_extension": ".py",
   "mimetype": "text/x-python",
   "name": "python",
   "nbconvert_exporter": "python",
   "pygments_lexer": "ipython3",
   "version": "3.8.8"
  }
 },
 "nbformat": 4,
 "nbformat_minor": 5
}
